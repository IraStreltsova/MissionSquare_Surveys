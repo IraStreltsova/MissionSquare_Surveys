{
  "nbformat": 4,
  "nbformat_minor": 0,
  "metadata": {
    "colab": {
      "provenance": [],
      "include_colab_link": true
    },
    "kernelspec": {
      "name": "python3",
      "display_name": "Python 3"
    },
    "language_info": {
      "name": "python"
    }
  },
  "cells": [
    {
      "cell_type": "markdown",
      "metadata": {
        "id": "view-in-github",
        "colab_type": "text"
      },
      "source": [
        "<a href=\"https://colab.research.google.com/github/IraStreltsova/MissionSquare_Surveys/blob/main/RPS.ipynb\" target=\"_parent\"><img src=\"https://colab.research.google.com/assets/colab-badge.svg\" alt=\"Open In Colab\"/></a>"
      ]
    },
    {
      "cell_type": "code",
      "execution_count": null,
      "metadata": {
        "id": "yB2ERXJoBM7h"
      },
      "outputs": [],
      "source": [
        "import pandas as pd"
      ]
    },
    {
      "cell_type": "code",
      "source": [
        "# Constants\n",
        "RAW_DATA_FILE = 'RPS Survey Results July 2023.xlsx'\n",
        "valid_scores = {\n",
        "    'NPS': [1, 2, 3],\n",
        "    'SAT': [1, 2, 3, 4, 5],\n",
        "}\n",
        "\n",
        "columns = {\n",
        "    'NPS': 'Q5_NPS_GROUP',\n",
        "    'SAT': 'Q2_5',\n",
        "}\n",
        "RESULTS_FILE = 'RPS_RESULTS.xlsx'"
      ],
      "metadata": {
        "id": "-6wnHx-yMhHN"
      },
      "execution_count": null,
      "outputs": []
    },
    {
      "cell_type": "code",
      "source": [
        "# Edit data\n",
        "def read_and_clean_data(file_path):\n",
        "  df = pd.read_excel(file_path)\n",
        "  return df"
      ],
      "metadata": {
        "id": "9kcjBb5Ahg1Y"
      },
      "execution_count": null,
      "outputs": []
    },
    {
      "cell_type": "code",
      "source": [
        "# OVERALL SATISFACTION\n",
        "def calculate_sat_metrics(df, column_name, valid_scores):\n",
        "  \"\"\"Calculate SAT metrics: AVG SCORE, TOP 1 BOX %, TOP 2 BOX %, and n.\"\"\"\n",
        "  columns = ['AVG SCORE', 'TOP 1 BOX %', 'TOP 2 BOX %', 'n']\n",
        "  output_df = pd.DataFrame(columns=columns)\n",
        "\n",
        "  # Filter rows where the column contains values 1, 2, 3, 4, or 5\n",
        "  valid_data = df[df[column_name].isin(valid_scores)]\n",
        "\n",
        "  # AVERAGE\n",
        "  avg_score = valid_data[column_name].mean()\n",
        "\n",
        "  # TOP 1 AND TOP 2 BOX\n",
        "  summary = valid_data[column_name].value_counts(normalize=True) * 100\n",
        "  top_1_box = summary.get(5, 0) / 100\n",
        "  top_2_box = top_1_box + summary.get(4, 0)/100\n",
        "\n",
        "  # NUMBER OF ROWS\n",
        "  n = len(valid_data)\n",
        "\n",
        "  # APPEND DATA to the output DataFrame\n",
        "  output_df = output_df.append({\n",
        "    'AVG SCORE': avg_score,\n",
        "    'TOP 1 BOX %': top_1_box,\n",
        "    'TOP 2 BOX %': top_2_box,\n",
        "    'n': n\n",
        "  }, ignore_index=True)\n",
        "\n",
        "  return output_df"
      ],
      "metadata": {
        "id": "fbpMVJigDhop"
      },
      "execution_count": null,
      "outputs": []
    },
    {
      "cell_type": "code",
      "source": [
        "# NPS\n",
        "def nps(dataframe, column_name, valid_scores):\n",
        "  # Create an empty DataFrame 'nps'\n",
        "  columns = ['Detractors (0-6)', 'Passives (7-8)', 'Promoters (9-10)', 'TOTAL', 'NPS', 'n']\n",
        "  output_df = pd.DataFrame(columns=columns)\n",
        "\n",
        "  # Filter rows where DISTRIBUTION is 1, 2, 3\n",
        "  valid_data = dataframe[dataframe[column_name].isin(valid_scores)]\n",
        "\n",
        "  # Group column '' and calculate percentages\n",
        "  distribution_nps = valid_data[column_name].value_counts(normalize=True) * 100\n",
        "\n",
        "  # Calculate percentages for NPS\n",
        "  promoter = distribution_nps.get(3, 0) / 100\n",
        "  passive = distribution_nps.get(2, 0)/ 100\n",
        "  detractor = distribution_nps.get(1, 0)/ 100\n",
        "  nps = (promoter - detractor)*100\n",
        "\n",
        "\n",
        "  # NUMBER OF ROWS\n",
        "  # Count rows for 'n'\n",
        "  n_count_nps = len(valid_data)\n",
        "\n",
        "\n",
        "  # APPEND DATA to the 'fpd_rec' DataFrame\n",
        "  output_df = output_df.append({\n",
        "    'Detractors (0-6)':detractor,\n",
        "    'Passives (7-8)':passive,\n",
        "    'Promoters (9-10)':promoter,\n",
        "    'TOTAL':(detractor+passive+promoter),\n",
        "    'NPS':nps,\n",
        "    'n':n_count_nps\n",
        "  }, ignore_index=True)\n",
        "\n",
        "  return output_df"
      ],
      "metadata": {
        "id": "8jazupWVIvYM"
      },
      "execution_count": null,
      "outputs": []
    },
    {
      "cell_type": "code",
      "source": [
        "# EXPORTING DATA TO EXCEL\n",
        "def export_to_excel(dataframes, file_path):\n",
        "    with pd.ExcelWriter(file_path) as writer:\n",
        "        for name, df in dataframes.items():\n",
        "            df.to_excel(writer, sheet_name=name, index=True)"
      ],
      "metadata": {
        "id": "RLlFgQdkYoGx"
      },
      "execution_count": null,
      "outputs": []
    },
    {
      "cell_type": "code",
      "source": [
        "def main():\n",
        "  df = read_and_clean_data(RAW_DATA_FILE)\n",
        "\n",
        "\n",
        "  nps_res = nps(df, columns['NPS'], valid_scores['NPS'])\n",
        "  sat_res = calculate_sat_metrics(df, columns['SAT'], valid_scores['SAT'])\n",
        "\n",
        "  df_to_export = {\n",
        "    'NPS': nps_res,\n",
        "    'OVERALL_SAT': sat_res,\n",
        "  }\n",
        "\n",
        "  export_to_excel(df_to_export, RESULTS_FILE)\n"
      ],
      "metadata": {
        "id": "SqN_ul2qDuRh"
      },
      "execution_count": null,
      "outputs": []
    },
    {
      "cell_type": "code",
      "source": [
        "if __name__ == \"__main__\":\n",
        "    main()"
      ],
      "metadata": {
        "id": "NOa87BgOEvzI",
        "outputId": "0e17c8f1-c69c-4f65-b407-ba70ae8c628b",
        "colab": {
          "base_uri": "https://localhost:8080/"
        }
      },
      "execution_count": null,
      "outputs": [
        {
          "output_type": "stream",
          "name": "stderr",
          "text": [
            "<ipython-input-17-b176af830609>:26: FutureWarning: The frame.append method is deprecated and will be removed from pandas in a future version. Use pandas.concat instead.\n",
            "  output_df = output_df.append({\n",
            "<ipython-input-16-b9819b1a751a>:22: FutureWarning: The frame.append method is deprecated and will be removed from pandas in a future version. Use pandas.concat instead.\n",
            "  output_df = output_df.append({\n"
          ]
        }
      ]
    },
    {
      "cell_type": "code",
      "source": [],
      "metadata": {
        "id": "r9Bd1UqAEwHU"
      },
      "execution_count": null,
      "outputs": []
    }
  ]
}