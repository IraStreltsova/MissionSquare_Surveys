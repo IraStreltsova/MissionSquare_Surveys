{
  "nbformat": 4,
  "nbformat_minor": 0,
  "metadata": {
    "colab": {
      "provenance": [],
      "authorship_tag": "ABX9TyOY45YvQYcUBFSeCjZ87D+j",
      "include_colab_link": true
    },
    "kernelspec": {
      "name": "python3",
      "display_name": "Python 3"
    },
    "language_info": {
      "name": "python"
    }
  },
  "cells": [
    {
      "cell_type": "markdown",
      "metadata": {
        "id": "view-in-github",
        "colab_type": "text"
      },
      "source": [
        "<a href=\"https://colab.research.google.com/github/IraStreltsova/MissionSquare_Surveys/blob/main/SURVEY_HISTORICAL_DATA_FINAL.ipynb\" target=\"_parent\"><img src=\"https://colab.research.google.com/assets/colab-badge.svg\" alt=\"Open In Colab\"/></a>"
      ]
    },
    {
      "cell_type": "code",
      "execution_count": null,
      "metadata": {
        "id": "Ok9Go8Ns9oPN"
      },
      "outputs": [],
      "source": [
        "import pandas as pd"
      ]
    },
    {
      "cell_type": "code",
      "source": [
        "# Constants\n",
        "sat_columns = ['TOP 2 BOX %', 'AVG SCORE', 'n']\n",
        "nps_columns = ['NPS', 'n']\n",
        "EXCEL_RESULTS = 'SURVEY_HISTORICAL_RESULTS.xlsx'"
      ],
      "metadata": {
        "id": "ogNPPoN20QhC"
      },
      "execution_count": null,
      "outputs": []
    },
    {
      "cell_type": "code",
      "source": [
        "# Survey Data Configuration\n",
        "survey_config = {\n",
        "    'GPAS ADVISOR': {\n",
        "        'file_path': 'GPAS Adviser Survey Results July 2023.xlsx',\n",
        "        'question_column': ['Q2'],\n",
        "        'distribution': {\n",
        "            'Exceeds my expectations': 3,\n",
        "            'Meets my expectations': 2,\n",
        "            'Does not meet my expectations': 1\n",
        "        },\n",
        "        'valid_scores': [1, 2, 3]\n",
        "    },\n",
        "    'CFP CONSULTATIONS': {\n",
        "        'file_path': 'CFP Consultations Results July 2023.xlsx',\n",
        "        'question_column': ['Q31'],\n",
        "        'distribution': {\n",
        "            'Exceeded my expectations': 3,\n",
        "            'Met my expectations': 2,\n",
        "            'Did not meet my expectations': 1\n",
        "        },\n",
        "        'valid_scores': [1, 2, 3]\n",
        "    },\n",
        "    'FINANCIAL PLAN DELIVERY RECOMMEND': {\n",
        "        'file_path': 'Financial Plan Survey Results July 2023.xlsx',\n",
        "        'question_column': ['Q2_6'],\n",
        "        'distribution': {\n",
        "            'Strongly agree' : 5,\n",
        "            'Agree' : 4,\n",
        "            'Neither agree nor disagree': 3,\n",
        "            'Disagree': 2,\n",
        "            'Strongly disagree': 1\n",
        "        },\n",
        "        'valid_scores': [1, 2, 3, 4, 5]\n",
        "    },\n",
        "    'FINANCIAL PLAN DELIVERY OVERALL': {\n",
        "        'file_path': 'Financial Plan Survey Results July 2023.xlsx',\n",
        "        'question_column': ['Q6'],\n",
        "        'distribution': {\n",
        "            'Overly exceeds my expectations' : 4,\n",
        "            'Exceeds my expectations': 3,\n",
        "            'Meets my expectations': 2,\n",
        "            'Does not meet my expectations': 1\n",
        "        },\n",
        "        'valid_scores': [1, 2, 3, 4]\n",
        "    },\n",
        "    'VRS ACCOUNT REVIEW REP': {\n",
        "        'file_path': 'VRS AR Survey Results July 2023.xlsx',\n",
        "        'question_column': ['Q18_5'],\n",
        "        'distribution': {\n",
        "            'Strongly Agree' : 4,\n",
        "            'Agree' : 3,\n",
        "            'Disagree': 2,\n",
        "            'Strongly disagree': 1\n",
        "        },\n",
        "        'valid_scores': [1, 2, 3, 4]\n",
        "    },\n",
        "    'VRS ACCOUNT REVIEW EXP': {\n",
        "        'file_path': 'VRS AR Survey Results July 2023.xlsx',\n",
        "        'question_column': ['Q19_4'],\n",
        "        'distribution': {\n",
        "            'Strongly Agree' : 4,\n",
        "            'Agree' : 3,\n",
        "            'Disagree': 2,\n",
        "            'Strongly disagree': 1\n",
        "        },\n",
        "        'valid_scores': [1, 2, 3, 4]\n",
        "    },\n",
        "    'VRS SEMINAR/WEBINAR PRESENTER': {\n",
        "        'file_path': 'VRS Seminar Webinar Survey Results July 2023.xlsx',\n",
        "        'question_column': ['Q14_4'],\n",
        "        'distribution': {\n",
        "            'Strongly Agree' : 4,\n",
        "            'Agree' : 3,\n",
        "            'Disagree': 2,\n",
        "            'Strongly disagree': 1\n",
        "        },\n",
        "        'valid_scores': [1, 2, 3, 4]\n",
        "    },\n",
        "    'VRS SEMINAR/WEBINAR PRESENTATION': {\n",
        "        'file_path': 'VRS Seminar Webinar Survey Results July 2023.xlsx',\n",
        "        'question_column': ['Q15_4'],\n",
        "        'distribution': {\n",
        "            'Strongly Agree' : 4,\n",
        "            'Agree' : 3,\n",
        "            'Disagree': 2,\n",
        "            'Strongly disagree': 1\n",
        "        },\n",
        "        'valid_scores': [1, 2, 3, 4]\n",
        "    },\n",
        "}"
      ],
      "metadata": {
        "id": "dQfzE96F0_H_"
      },
      "execution_count": null,
      "outputs": []
    },
    {
      "cell_type": "code",
      "source": [
        "# NPS VALUES\n",
        "nps_config = {\n",
        "    'FINANCIAL PLAN DELIVERY NPS': {\n",
        "        'file_path': 'Financial Plan Survey Results July 2023.xlsx',\n",
        "        'question_column': ['Q7_NPS_GROUP'],\n",
        "        'distribution': {\n",
        "            'Promoter': 3,\n",
        "            'Passive': 2,\n",
        "            'Detractor': 1\n",
        "        },\n",
        "        'valid_scores': [1, 2, 3]\n",
        "    },\n",
        "}"
      ],
      "metadata": {
        "id": "-2pQJ9XZ1lrB"
      },
      "execution_count": null,
      "outputs": []
    },
    {
      "cell_type": "code",
      "source": [
        "def read_and_clean_data(file_path, column_to_keep):\n",
        "  \"\"\"Read and clean data from the Excel file.\"\"\"\n",
        "  df = pd.read_excel(file_path)\n",
        "  df = df.drop(0).reset_index(drop=True)\n",
        "  df = df[column_to_keep]\n",
        "  return df"
      ],
      "metadata": {
        "id": "CYn_CAhabOsg"
      },
      "execution_count": null,
      "outputs": []
    },
    {
      "cell_type": "code",
      "source": [
        "def process_survey(file_name, question_column, distribution, valid_scores):\n",
        "\n",
        "    df = read_and_clean_data(file_name, question_column)\n",
        "\n",
        "    # Create an empty DataFrame\n",
        "    result_df = pd.DataFrame(columns=sat_columns)\n",
        "\n",
        "    # Add 'DISTRIBUTION' column to the DataFrame\n",
        "    df['DISTRIBUTION'] = df[question_column].replace(distribution)\n",
        "\n",
        "    # Filter rows where DISTRIBUTION is in valid scores\n",
        "    filtered_data = df[df['DISTRIBUTION'].isin(valid_scores)]\n",
        "\n",
        "    # Calculate average score\n",
        "    avg_score = filtered_data['DISTRIBUTION'].mean()\n",
        "\n",
        "    # Group column 'DISTRIBUTION' and calculate percentages\n",
        "    distribution = filtered_data['DISTRIBUTION'].value_counts(normalize=True)\n",
        "\n",
        "    # Calculate percentages for 'TOP 1 BOX %' and 'TOP 2 BOX %'\n",
        "    top_1_box = distribution.get(valid_scores[-1], 0)\n",
        "    top_2_box = top_1_box + distribution.get(valid_scores[-2], 0)\n",
        "\n",
        "    # Count rows for 'n'\n",
        "    n_count = len(filtered_data)\n",
        "\n",
        "    # Append data to the result DataFrame\n",
        "    result_df = result_df.append({\n",
        "        'TOP 2 BOX %': top_2_box,\n",
        "        'AVG SCORE': avg_score,\n",
        "        'n': n_count\n",
        "    }, ignore_index=True)\n",
        "\n",
        "    return result_df"
      ],
      "metadata": {
        "id": "yl7iAg6la6ED"
      },
      "execution_count": null,
      "outputs": []
    },
    {
      "cell_type": "code",
      "source": [
        "# FINANCIAL PLAN DELIVERY (NPS)\n",
        "def calculate_nps(file_name, question_column, distribution, valid_scores):\n",
        "  # Read the Excel file into a DataFrame\n",
        "  df = read_and_clean_data(file_name, question_column)\n",
        "\n",
        "  nps_df = pd.DataFrame(columns=nps_columns)\n",
        "\n",
        "  df['DISTRIBUTION'] = df[question_column].replace(distribution)\n",
        "\n",
        "  # Filter rows where DISTRIBUTION is in valid scores\n",
        "  filtered_data = df[df['DISTRIBUTION'].isin(valid_scores)]\n",
        "\n",
        "\n",
        "  # NPS\n",
        "  # Group column '' and calculate percentages\n",
        "  distribution = filtered_data['DISTRIBUTION'].value_counts(normalize=True)*100\n",
        "\n",
        "  # Calculate percentages for NPS\n",
        "  promoter = distribution.get(valid_scores[-1], 0)\n",
        "  detractor = distribution.get(valid_scores[0], 0)\n",
        "  nps = promoter - detractor\n",
        "\n",
        "\n",
        "  # NUMBER OF ROWS\n",
        "  # Count rows for 'n'\n",
        "  n_count = len(filtered_data)\n",
        "\n",
        "\n",
        "  # APPEND DATA to the 'fpd_rec' DataFrame\n",
        "  nps_df = nps_df.append({\n",
        "      'NPS': nps,\n",
        "      'n': n_count\n",
        "  }, ignore_index=True)\n",
        "\n",
        "  return nps_df"
      ],
      "metadata": {
        "id": "yIOkPsyB0Qwh"
      },
      "execution_count": null,
      "outputs": []
    },
    {
      "cell_type": "code",
      "source": [
        "# EXPORTING DATA TO EXCEL\n",
        "def export_to_excel(merged, nps, file_path):\n",
        "  with pd.ExcelWriter(file_path) as writer:\n",
        "    # Export DataFrames to different sheets in the Excel file\n",
        "    merged.to_excel(writer, sheet_name='merged_dataframe', index=True)\n",
        "    nps.to_excel(writer, sheet_name='NPS', index=True)"
      ],
      "metadata": {
        "id": "jQA_yc9SYW2D"
      },
      "execution_count": null,
      "outputs": []
    },
    {
      "cell_type": "code",
      "source": [
        "def main():\n",
        "    dataframes = {}\n",
        "    for survey_name, config in survey_config.items():\n",
        "        df = process_survey(config['file_path'], config['question_column'], config['distribution'], config['valid_scores'])\n",
        "        dataframes[survey_name] = df\n",
        "\n",
        "    merged_dataframe = pd.concat(dataframes.values(), keys=survey_config.keys())\n",
        "    merged_dataframe = merged_dataframe.reset_index(level=1, drop=True)\n",
        "\n",
        "    nps_df = {}\n",
        "    for survey_name, config in nps_config.items():\n",
        "        df = calculate_nps(config['file_path'], config['question_column'], config['distribution'], config['valid_scores'])\n",
        "        nps_df[survey_name] = df\n",
        "\n",
        "    fpd_nps = pd.concat(nps_df.values(), keys=nps_config.keys())\n",
        "    fpd_nps = fpd_nps.reset_index(level=1, drop=True)\n",
        "\n",
        "    export_to_excel(merged_dataframe, fpd_nps, EXCEL_RESULTS)"
      ],
      "metadata": {
        "id": "yOwfopsAvznO"
      },
      "execution_count": null,
      "outputs": []
    },
    {
      "cell_type": "code",
      "source": [
        "if __name__ == \"__main__\":\n",
        "    main()"
      ],
      "metadata": {
        "colab": {
          "base_uri": "https://localhost:8080/"
        },
        "id": "BrgrhNyXvzpm",
        "outputId": "cede3304-5ddf-46cd-c977-ff6b4d7e1997"
      },
      "execution_count": null,
      "outputs": [
        {
          "output_type": "stream",
          "name": "stderr",
          "text": [
            "<ipython-input-98-36f435b8fc83>:28: FutureWarning: The frame.append method is deprecated and will be removed from pandas in a future version. Use pandas.concat instead.\n",
            "  result_df = result_df.append({\n",
            "<ipython-input-98-36f435b8fc83>:28: FutureWarning: The frame.append method is deprecated and will be removed from pandas in a future version. Use pandas.concat instead.\n",
            "  result_df = result_df.append({\n",
            "<ipython-input-98-36f435b8fc83>:28: FutureWarning: The frame.append method is deprecated and will be removed from pandas in a future version. Use pandas.concat instead.\n",
            "  result_df = result_df.append({\n",
            "<ipython-input-98-36f435b8fc83>:28: FutureWarning: The frame.append method is deprecated and will be removed from pandas in a future version. Use pandas.concat instead.\n",
            "  result_df = result_df.append({\n",
            "<ipython-input-98-36f435b8fc83>:28: FutureWarning: The frame.append method is deprecated and will be removed from pandas in a future version. Use pandas.concat instead.\n",
            "  result_df = result_df.append({\n",
            "<ipython-input-98-36f435b8fc83>:28: FutureWarning: The frame.append method is deprecated and will be removed from pandas in a future version. Use pandas.concat instead.\n",
            "  result_df = result_df.append({\n",
            "<ipython-input-98-36f435b8fc83>:28: FutureWarning: The frame.append method is deprecated and will be removed from pandas in a future version. Use pandas.concat instead.\n",
            "  result_df = result_df.append({\n",
            "<ipython-input-98-36f435b8fc83>:28: FutureWarning: The frame.append method is deprecated and will be removed from pandas in a future version. Use pandas.concat instead.\n",
            "  result_df = result_df.append({\n",
            "<ipython-input-99-9c37327ed60a>:30: FutureWarning: The frame.append method is deprecated and will be removed from pandas in a future version. Use pandas.concat instead.\n",
            "  nps_df = nps_df.append({\n"
          ]
        }
      ]
    },
    {
      "cell_type": "code",
      "source": [],
      "metadata": {
        "id": "NJYMMidgwNj1"
      },
      "execution_count": null,
      "outputs": []
    },
    {
      "cell_type": "code",
      "source": [],
      "metadata": {
        "id": "9l8mPYSX0nN5"
      },
      "execution_count": null,
      "outputs": []
    },
    {
      "cell_type": "code",
      "source": [],
      "metadata": {
        "id": "bDQ-bl5F0nQZ"
      },
      "execution_count": null,
      "outputs": []
    },
    {
      "cell_type": "code",
      "source": [],
      "metadata": {
        "id": "Dtykes8W0nSx"
      },
      "execution_count": null,
      "outputs": []
    },
    {
      "cell_type": "code",
      "source": [],
      "metadata": {
        "id": "Ktukn_XJ0nVI"
      },
      "execution_count": null,
      "outputs": []
    },
    {
      "cell_type": "code",
      "source": [
        "# # Constants\n",
        "# gpas_question = ['Q2']\n",
        "# cfp_question = ['Q31']\n",
        "# fpd_rec_question = ['Q2_6']\n",
        "# fpd_exp_question = ['Q6']\n",
        "# vrs_rep_question = ['Q18_5']\n",
        "# vrs_exp_question = ['Q19_4']\n",
        "# vrs_sw_presr_question = ['Q14_4']\n",
        "# vrs_sw_presn_question = ['Q15_4']\n",
        "# nps_question = ['Q7_NPS_GROUP']\n",
        "# VALID_NPS_SCORES = [1, 2, 3]\n",
        "# VALID_GPAS_SCORES = [1, 2, 3]\n",
        "# VALID_CFP_SCORES = [1, 2, 3]\n",
        "# VALID_FPD_REC_SCORES = [1, 2, 3, 4, 5]\n",
        "# VALID_FPD_EXP_SCORES = [1, 2, 3, 4]\n",
        "# VALID_VRS_SCORES = [1, 2, 3, 4]\n",
        "# sat_columns = ['TOP 2 BOX %', 'AVG SCORE', 'n']\n",
        "# nps_columns = ['NPS', 'n']\n",
        "# EXCEL_RESULTS = 'SURVEY_HISTORICAL_RESULTS.xlsx'"
      ],
      "metadata": {
        "id": "poujsb0N0nXc"
      },
      "execution_count": null,
      "outputs": []
    },
    {
      "cell_type": "code",
      "source": [
        "# gpas_distribution = {\n",
        "#     'Exceeds my expectations': 3,\n",
        "#     'Meets my expectations': 2,\n",
        "#     'Does not meet my expectations': 1\n",
        "# }\n",
        "\n",
        "# cfp_distribution = {\n",
        "#     'Exceeded my expectations': 3,\n",
        "#     'Met my expectations': 2,\n",
        "#     'Did not meet my expectations': 1\n",
        "# }\n",
        "\n",
        "# fpd_rec_distribution = {\n",
        "#     'Strongly agree' : 5,\n",
        "#     'Agree' : 4,\n",
        "#     'Neither agree nor disagree': 3,\n",
        "#     'Disagree': 2,\n",
        "#     'Strongly disagree': 1\n",
        "# }\n",
        "\n",
        "# fpd_exp_distribution = {\n",
        "#     'Overly exceeds my expectations' : 4,\n",
        "#     'Exceeds my expectations': 3,\n",
        "#     'Meets my expectations': 2,\n",
        "#     'Does not meet my expectations': 1\n",
        "# }\n",
        "\n",
        "# nps_distribution = {\n",
        "#     'Promoter': 3,\n",
        "#     'Passive': 2,\n",
        "#     'Detractor': 1\n",
        "# }\n",
        "\n",
        "# vrs_distribution = {\n",
        "#     'Strongly Agree' : 4,\n",
        "#     'Agree' : 3,\n",
        "#     'Disagree': 2,\n",
        "#     'Strongly disagree': 1\n",
        "# }"
      ],
      "metadata": {
        "id": "fmgNiqCp0nZr"
      },
      "execution_count": null,
      "outputs": []
    },
    {
      "cell_type": "code",
      "source": [
        "# def merge_dataframes(dataframes):\n",
        "#     # Create an empty list to hold the DataFrame objects\n",
        "#     dataframes_list = []\n",
        "\n",
        "#     # Iterate through the dictionary and add index names as a level of MultiIndex\n",
        "#     for index_name, dataframe in dataframes.items():\n",
        "#         dataframe.index = pd.MultiIndex.from_product([[index_name], dataframe.index])\n",
        "#         dataframes_list.append(dataframe)\n",
        "\n",
        "#     # Concatenate the list of DataFrames into one DataFrame\n",
        "#     merged_dataframe = pd.concat(dataframes_list)\n",
        "\n",
        "#     merged_dataframe = merged_dataframe.droplevel(level=1, axis=0)\n",
        "#     return merged_dataframe"
      ],
      "metadata": {
        "id": "F2iC1JUG0w6J"
      },
      "execution_count": null,
      "outputs": []
    },
    {
      "cell_type": "code",
      "source": [
        "# def main():\n",
        "\n",
        "#   gpas = process_survey('GPAS Adviser Survey Results July 2023.xlsx', gpas_question, gpas_distribution, VALID_GPAS_SCORES)\n",
        "#   cfp = process_survey('CFP Consultations Results July 2023.xlsx', cfp_question, cfp_distribution, VALID_CFP_SCORES)\n",
        "#   fpd_rec = process_survey('Financial Plan Survey Results July 2023.xlsx', fpd_rec_question, fpd_rec_distribution, VALID_FPD_REC_SCORES)\n",
        "#   fpd_exp = process_survey('Financial Plan Survey Results July 2023.xlsx', fpd_exp_question, fpd_exp_distribution, VALID_FPD_EXP_SCORES)\n",
        "#   fpd_nps = calculate_nps('Financial Plan Survey Results July 2023.xlsx', nps_question, nps_distribution, VALID_NPS_SCORES)\n",
        "#   vrs_rep = process_survey('VRS AR Survey Results July 2023.xlsx', vrs_rep_question, vrs_distribution, VALID_VRS_SCORES)\n",
        "#   vrs_exp = process_survey('VRS AR Survey Results July 2023.xlsx', vrs_exp_question, vrs_distribution, VALID_VRS_SCORES)\n",
        "#   vrs_sw_presr = process_survey('VRS Seminar Webinar Survey Results July 2023.xlsx', vrs_sw_presr_question, vrs_distribution, VALID_VRS_SCORES)\n",
        "#   vrs_sw_presn = process_survey('VRS Seminar Webinar Survey Results July 2023.xlsx', vrs_sw_presn_question, vrs_distribution, VALID_VRS_SCORES)\n",
        "\n",
        "#   # Create a dictionary with DataFrame objects and their respective names\n",
        "#   dataframes = {\n",
        "#     'GPAS ADVISOR': gpas,\n",
        "#     'CFP CONSULTATIONS': cfp,\n",
        "#     'FINANCIAL PLAN DELIVERY RECOMMEND': fpd_rec,\n",
        "#     'FINANCIAL PLAN DELIVERY OVERALL': fpd_exp,\n",
        "#     'VRS ACCOUNT REVIEW REP':vrs_rep,\n",
        "#     'VRS ACCOUNT REVIEW EXP':vrs_exp,\n",
        "#     'VRS SEMINAR/WEBINAR PRESENTER':vrs_sw_presr,\n",
        "#     'VRS SEMINAR/WEBINAR PRESENTATION':vrs_sw_presn\n",
        "#   }\n",
        "\n",
        "#   merged_dataframe = merge_dataframes(dataframes)\n",
        "#   export_to_excel(merged_dataframe, fpd_nps, EXCEL_RESULTS)"
      ],
      "metadata": {
        "id": "LQ6s2_WO0w8c"
      },
      "execution_count": null,
      "outputs": []
    }
  ]
}