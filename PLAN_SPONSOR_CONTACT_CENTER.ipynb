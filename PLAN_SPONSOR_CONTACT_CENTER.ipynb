{
  "nbformat": 4,
  "nbformat_minor": 0,
  "metadata": {
    "colab": {
      "provenance": [],
      "include_colab_link": true
    },
    "kernelspec": {
      "name": "python3",
      "display_name": "Python 3"
    },
    "language_info": {
      "name": "python"
    }
  },
  "cells": [
    {
      "cell_type": "markdown",
      "metadata": {
        "id": "view-in-github",
        "colab_type": "text"
      },
      "source": [
        "<a href=\"https://colab.research.google.com/github/IraStreltsova/MissionSquare_Surveys/blob/main/PLAN_SPONSOR_CONTACT_CENTER.ipynb\" target=\"_parent\"><img src=\"https://colab.research.google.com/assets/colab-badge.svg\" alt=\"Open In Colab\"/></a>"
      ]
    },
    {
      "cell_type": "code",
      "source": [
        "import pandas as pd"
      ],
      "metadata": {
        "id": "BMQEZJiIrdGM"
      },
      "execution_count": null,
      "outputs": []
    },
    {
      "cell_type": "code",
      "source": [
        "# Constants\n",
        "RAW_DATA_FILE = 'MSQ Survey Plan Sponsor July 2023.xlsx'\n",
        "VALID_SAT_SCORES = [1, 2, 3, 4]\n",
        "RES_COLUMNS = ['AVG SCORE', 'TOP 1 BOX %', 'TOP 2 BOX %', 'n']\n",
        "COLUMN_NAMES = {\n",
        "    'helpful': 'Survey.Mission Helpful Results',\n",
        "    'knowledgeable': 'Survey.Mission Knowledgeable Results',\n",
        "    'professional': 'Survey.Mission Professional Results',\n",
        "    'satisfied': 'Survey.Mission Overall Satisfaction Results'\n",
        "}\n",
        "RESULTS_FILE = 'PLAN_SPONSOR_CONTACT_CENTER_RESULTS.xlsx'"
      ],
      "metadata": {
        "id": "0Ivd_V07vudz"
      },
      "execution_count": null,
      "outputs": []
    },
    {
      "cell_type": "code",
      "source": [
        "def read_and_clean_data(file_path):\n",
        "  \"\"\"Read and clean data from the Excel file.\"\"\"\n",
        "  df = pd.read_excel(file_path)\n",
        "  columns_to_keep = [col for col in df.columns if col.startswith('Survey')]\n",
        "  df = df[columns_to_keep]\n",
        "  df = df.fillna(0)\n",
        "  df.iloc[:, :] = df.iloc[:, :].astype(int)\n",
        "  return df"
      ],
      "metadata": {
        "id": "cEtaWmYIvu47"
      },
      "execution_count": null,
      "outputs": []
    },
    {
      "cell_type": "code",
      "source": [
        "def calculate_sat_metrics(df, column_name):\n",
        "  \"\"\"Calculate SAT metrics: AVG SCORE, TOP 1 BOX %, TOP 2 BOX %, and n.\"\"\"\n",
        "\n",
        "  # Filter rows where Survey.Mission Results is 1, 2, 3, or 4\n",
        "  valid_data = df[df[column_name].isin(VALID_SAT_SCORES)]\n",
        "\n",
        "\n",
        "  # AVERAGE\n",
        "  # Calculate the average value from the filtered data\n",
        "  avg_score = valid_data[column_name].mean()\n",
        "\n",
        "\n",
        "  # TOP 1 AND TOP 2 BOX\n",
        "  # Group column 'Survey.Mission Helpful Results' and calculate percentages\n",
        "  summary = valid_data[column_name].value_counts(normalize=True) * 100\n",
        "\n",
        "  # Calculate percentages for 'TOP 1 BOX %' and 'TOP 2 BOX %'\n",
        "  top_1_box = summary.get(4, 0) / 100\n",
        "  top_2_box = top_1_box + summary.get(3, 0) / 100\n",
        "\n",
        "\n",
        "  # NUMBER OF ROWS\n",
        "  n = len(valid_data)\n",
        "\n",
        "  return {\n",
        "        'AVG SCORE': avg_score,\n",
        "        'TOP 1 BOX %': top_1_box,\n",
        "        'TOP 2 BOX %': top_2_box,\n",
        "        'n': n\n",
        "  }"
      ],
      "metadata": {
        "id": "ww1DGPsv7K4e"
      },
      "execution_count": null,
      "outputs": []
    },
    {
      "cell_type": "code",
      "source": [
        "# EXPORTING DATA TO EXCEL\n",
        "def export_to_excel(results, file_path):\n",
        "  \"\"\"Export results to an Excel file.\"\"\"\n",
        "  with pd.ExcelWriter(file_path) as writer:\n",
        "    for name, result_df in results.items():\n",
        "      result_df.to_excel(writer, sheet_name=name, index=False)"
      ],
      "metadata": {
        "id": "kpSLvlNcGx7Z"
      },
      "execution_count": null,
      "outputs": []
    },
    {
      "cell_type": "code",
      "source": [
        "def main():\n",
        "  # Read the Excel file into a DataFrame\n",
        "  df = read_and_clean_data(RAW_DATA_FILE)\n",
        "\n",
        "  result_dfs = {}\n",
        "  for name, col_name in COLUMN_NAMES.items():\n",
        "    result_dfs[name] = pd.DataFrame([calculate_sat_metrics(df, col_name)])\n",
        "\n",
        "  export_to_excel(result_dfs, RESULTS_FILE)"
      ],
      "metadata": {
        "id": "hhW7qIGavu--"
      },
      "execution_count": null,
      "outputs": []
    },
    {
      "cell_type": "code",
      "source": [
        "if __name__ == \"__main__\":\n",
        "  main()"
      ],
      "metadata": {
        "colab": {
          "base_uri": "https://localhost:8080/"
        },
        "id": "1U0hH9dovvq8",
        "outputId": "ae794a44-c0dc-4d96-982b-c30f89e10117"
      },
      "execution_count": null,
      "outputs": [
        {
          "output_type": "stream",
          "name": "stdout",
          "text": [
            "{'helpful':    AVG SCORE  TOP 1 BOX %  TOP 2 BOX %   n\n",
            "0   3.583333     0.797619     0.880952  84, 'knowledgeable':    AVG SCORE  TOP 1 BOX %  TOP 2 BOX %   n\n",
            "0   3.541176          0.8     0.858824  85, 'professional':    AVG SCORE  TOP 1 BOX %  TOP 2 BOX %   n\n",
            "0   3.658824     0.847059     0.905882  85, 'satisfied':    AVG SCORE  TOP 1 BOX %  TOP 2 BOX %   n\n",
            "0   3.535714     0.797619     0.857143  84}\n"
          ]
        },
        {
          "output_type": "stream",
          "name": "stderr",
          "text": [
            "<ipython-input-123-14e9c1c5af27>:7: DeprecationWarning: In a future version, `df.iloc[:, i] = newvals` will attempt to set the values inplace instead of always setting a new array. To retain the old behavior, use either `df[df.columns[i]] = newvals` or, if columns are non-unique, `df.isetitem(i, newvals)`\n",
            "  df.iloc[:, :] = df.iloc[:, :].astype(int)\n"
          ]
        }
      ]
    },
    {
      "cell_type": "code",
      "source": [],
      "metadata": {
        "id": "4XV-8fGLHbRu"
      },
      "execution_count": null,
      "outputs": []
    }
  ]
}