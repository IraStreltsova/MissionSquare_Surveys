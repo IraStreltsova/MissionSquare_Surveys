{
  "nbformat": 4,
  "nbformat_minor": 0,
  "metadata": {
    "colab": {
      "provenance": [],
      "include_colab_link": true
    },
    "kernelspec": {
      "name": "python3",
      "display_name": "Python 3"
    },
    "language_info": {
      "name": "python"
    }
  },
  "cells": [
    {
      "cell_type": "markdown",
      "metadata": {
        "id": "view-in-github",
        "colab_type": "text"
      },
      "source": [
        "<a href=\"https://colab.research.google.com/github/IraStreltsova/MissionSquare_Surveys/blob/main/PPT_CONTACT_CENTER.ipynb\" target=\"_parent\"><img src=\"https://colab.research.google.com/assets/colab-badge.svg\" alt=\"Open In Colab\"/></a>"
      ]
    },
    {
      "cell_type": "code",
      "execution_count": 41,
      "metadata": {
        "id": "OAbBSgKG3i5S"
      },
      "outputs": [],
      "source": [
        "import pandas as pd"
      ]
    },
    {
      "cell_type": "code",
      "source": [
        "# Constants\n",
        "GENERAL_DATA_FILE = 'MSQ Survey General July 2023.xlsx'\n",
        "VRS_DATA_FILE = 'VRS Survey Results July 2023.xlsx'\n",
        "MO_DATA_FILE = 'MO Survey Results July 2023.xlsx'\n",
        "VALID_SAT_SCORES = [1, 2, 3, 4]\n",
        "VALID_CALL_SCORES = {\n",
        "    'Q1': [1, 2, 3, 4, 5, 6, 7, 9],\n",
        "    'Q7': [1, 2],\n",
        "}\n",
        "RES_SAT_COLUMNS = ['MTD', 'TOP 1 BOX %', 'TOP 2 BOX %', 'n']\n",
        "RES_CALL_COLUMNS = ['MTD', 'n']\n",
        "general_sat_columns= {\n",
        "  'Q6 - Overall': 'Survey.Mission Q6 Results',\n",
        "  'Q2 - Informative': 'Survey.Mission Q2 Results',\n",
        "  'Q3 - Helpful': 'Survey.Mission Q3 Results',\n",
        "  'Q4 - Knowledgeable': 'Survey.Mission Q4 Results',\n",
        "  'Q5 - Professional': 'Survey.Mission Q5 Results',\n",
        "}\n",
        "vrs_sat_columns= {\n",
        "  'Q6 - Overall': 'question6Value',\n",
        "  'Q2 - Informative': 'question2Value',\n",
        "  'Q3 - Helpful': 'question3Value',\n",
        "  'Q4 - Knowledgeable': 'question4Value',\n",
        "  'Q5 - Professional': 'question5Value',\n",
        "}\n",
        "mo_sat_columns= {\n",
        "  'Q2 - Informative': 'question2Value',\n",
        "  'Q3 - Helpful': 'question3Value',\n",
        "  'Q6 - Overall': 'question6Value',\n",
        "  'Q5 - Professional': 'question5Value',\n",
        "  'Q4 - Knowledgeable': 'question4Value',\n",
        "}\n",
        "general_call_columns= {\n",
        "  'Q1': 'Survey.Mission Q1 Results',\n",
        "  'Q7': 'Survey.Mission Q7 Results',\n",
        "}\n",
        "call_columns= {\n",
        "  'Q1': 'question1Value',\n",
        "  'Q7': 'question7Value',\n",
        "}\n",
        "RESULTS_FILE = 'PPT_CONTACT_CENTER_RESULTS.xlsx'"
      ],
      "metadata": {
        "id": "QqbPXrxG47IR"
      },
      "execution_count": 42,
      "outputs": []
    },
    {
      "cell_type": "code",
      "source": [
        "def read_and_clean_data(file_path):\n",
        "  \"\"\"Read and clean data from the Excel file.\"\"\"\n",
        "  df = pd.read_excel(file_path)\n",
        "  columns_to_keep = [col for col in df.columns if 'Q' in col or col == 'SKILL' or 'question' in col]\n",
        "  df = df[columns_to_keep]\n",
        "  df = df.fillna(0)\n",
        "  #df.iloc[:, 1:] = df.iloc[:, 1:].astype(int)\n",
        "  return df"
      ],
      "metadata": {
        "id": "LpNtmbEG47Kv"
      },
      "execution_count": 43,
      "outputs": []
    },
    {
      "cell_type": "code",
      "source": [
        "def calculate_sat_metrics(df, column_name, filter_condition=None):\n",
        "  \"\"\"Calculate SAT metrics: MTD, TOP 1 BOX %, TOP 2 BOX %, and n.\"\"\"\n",
        "  output_df = pd.DataFrame(columns=RES_SAT_COLUMNS)\n",
        "\n",
        "  # Filter rows where the column contains values 1, 2, 3, 4\n",
        "  valid_data = df[df[column_name].isin(VALID_SAT_SCORES)]\n",
        "\n",
        "  if filter_condition:\n",
        "        valid_data = valid_data[valid_data['SKILL'] == filter_condition]\n",
        "\n",
        "  # AVERAGE\n",
        "  avg_score = valid_data[column_name].mean()\n",
        "\n",
        "  # TOP 1 AND TOP 2 BOX\n",
        "  # Group column 'Survey.Mission Helpful Results' and calculate percentages\n",
        "  summary = valid_data[column_name].value_counts(normalize=True)\n",
        "\n",
        "  # Calculate percentages for 'TOP 1 BOX %' and 'TOP 2 BOX %'\n",
        "  top_1_box = summary.get(4, 0)\n",
        "  top_2_box = top_1_box + summary.get(3, 0)\n",
        "\n",
        "  # NUMBER OF ROWS\n",
        "  n = len(valid_data)\n",
        "\n",
        "  # APPEND DATA to the output DataFrame\n",
        "  output_df = output_df.append({\n",
        "    'MTD': avg_score,\n",
        "    'TOP 1 BOX %': top_1_box,\n",
        "    'TOP 2 BOX %': top_2_box,\n",
        "    'n': n\n",
        "  }, ignore_index=True)\n",
        "\n",
        "  return output_df"
      ],
      "metadata": {
        "id": "PVqxFTtu7AFA"
      },
      "execution_count": 44,
      "outputs": []
    },
    {
      "cell_type": "code",
      "source": [
        "def calculate_call_metrics(df, column_name, valid_scores, territory_condition=None):\n",
        "  \"\"\"Calculate SAT metrics: MTD and n.\"\"\"\n",
        "  output_df = pd.DataFrame(columns=RES_CALL_COLUMNS)\n",
        "\n",
        "  # Filter rows where the column contains values\n",
        "  valid_data = df[df[column_name].isin(valid_scores)]\n",
        "\n",
        "  if territory_condition:\n",
        "        valid_data = valid_data[valid_data['SKILL'] == territory_condition]\n",
        "\n",
        "  # Group column 'Survey.Mission Helpful Results' and calculate percentages\n",
        "  summary = valid_data[column_name].value_counts(normalize=True)\n",
        "  call_dict = dict(sorted(summary.items()))\n",
        "\n",
        "  # NUMBER OF ROWS\n",
        "  n = len(valid_data)\n",
        "\n",
        "  call_dict.update({'n': n})\n",
        "\n",
        "  return call_dict"
      ],
      "metadata": {
        "id": "BUgcaqq1gWoT"
      },
      "execution_count": 45,
      "outputs": []
    },
    {
      "cell_type": "code",
      "source": [
        "def process_sat_metrics(df, columns, territory_condition=None):\n",
        "    result = {}\n",
        "    for row_name, column_name in columns.items():\n",
        "        metrics = calculate_sat_metrics(df, column_name, territory_condition)\n",
        "        result[row_name] = pd.DataFrame(metrics, index=[0])\n",
        "\n",
        "    df_list = []\n",
        "    for index_name, dataframe in result.items():\n",
        "        dataframe.index = pd.MultiIndex.from_product([[index_name], dataframe.index])\n",
        "        df_list.append(dataframe)\n",
        "\n",
        "    merged = pd.concat(df_list)\n",
        "    merged = merged.droplevel(level=1, axis=0)\n",
        "    return merged"
      ],
      "metadata": {
        "id": "s9R5-fGPOIxj"
      },
      "execution_count": 46,
      "outputs": []
    },
    {
      "cell_type": "code",
      "source": [
        "def process_call_metrics(df, columns, valid_scores, filter_condition=None):\n",
        "    result = {}\n",
        "    for row_name, column_name in columns.items():\n",
        "        metrics = calculate_call_metrics(df, column_name, valid_scores, filter_condition)\n",
        "        result[row_name] = pd.DataFrame(metrics, index=[0])\n",
        "\n",
        "    df_list = []\n",
        "    for index_name, dataframe in result.items():\n",
        "        dataframe.index = pd.MultiIndex.from_product([[index_name], dataframe.index])\n",
        "        df_list.append(dataframe)\n",
        "\n",
        "    merged = pd.concat(df_list)\n",
        "    merged = merged.droplevel(level=1, axis=0)\n",
        "    merged = merged.T\n",
        "    return merged"
      ],
      "metadata": {
        "id": "PNu3hNSogNVS"
      },
      "execution_count": 47,
      "outputs": []
    },
    {
      "cell_type": "code",
      "source": [
        "def export_to_excel(dataframes, file_path):\n",
        "    with pd.ExcelWriter(file_path) as writer:\n",
        "        for name, df in dataframes.items():\n",
        "            df.to_excel(writer, sheet_name=name, index=True)"
      ],
      "metadata": {
        "id": "zAs39OoJSlu_"
      },
      "execution_count": 48,
      "outputs": []
    },
    {
      "cell_type": "code",
      "source": [
        "def main():\n",
        "\n",
        "  # GENERAL AND DC\n",
        "  # Read the Excel file into a DataFrame\n",
        "  df_general = read_and_clean_data(GENERAL_DATA_FILE)\n",
        "\n",
        "  # Process general metrics\n",
        "  general = process_sat_metrics(df_general, general_sat_columns)\n",
        "\n",
        "  # Process DC metrics\n",
        "  dc = process_sat_metrics(df_general, general_sat_columns, 'Mission_EE_DC_A')\n",
        "\n",
        "  Q1_gen = dict(filter(lambda item: item[0] in 'Q1', general_call_columns.items()))\n",
        "  Q7_gen = dict(filter(lambda item: item[0] in 'Q7', general_call_columns.items()))\n",
        "\n",
        "  general_call = process_call_metrics(df_general, Q1_gen, VALID_CALL_SCORES['Q1'])\n",
        "  dc_call = process_call_metrics(df_general, Q1_gen, VALID_CALL_SCORES['Q1'], 'Mission_EE_DC_A')\n",
        "\n",
        "  general_Q7 = process_call_metrics(df_general, Q7_gen, VALID_CALL_SCORES['Q7'])\n",
        "  dc_Q7 = process_call_metrics(df_general, Q7_gen, VALID_CALL_SCORES['Q7'], 'Mission_EE_DC_A')\n",
        "\n",
        "\n",
        "\n",
        "  # VRS\n",
        "  df_vrs = read_and_clean_data(VRS_DATA_FILE)\n",
        "\n",
        "  # Process general metrics\n",
        "  vrs = process_sat_metrics(df_vrs, vrs_sat_columns)\n",
        "\n",
        "  Q1_vrs = dict(filter(lambda item: item[0] in 'Q1', call_columns.items()))\n",
        "  Q7_vrs = dict(filter(lambda item: item[0] in 'Q7', call_columns.items()))\n",
        "\n",
        "  vrs_call = process_call_metrics(df_vrs, Q1_vrs, VALID_CALL_SCORES['Q1'])\n",
        "  vrs_Q7 = process_call_metrics(df_vrs, Q7_vrs, VALID_CALL_SCORES['Q7'])\n",
        "\n",
        "\n",
        "\n",
        "\n",
        "  # Missouri\n",
        "  df_mo = read_and_clean_data(MO_DATA_FILE)\n",
        "\n",
        "  # Process general metrics\n",
        "  mo = process_sat_metrics(df_mo, mo_sat_columns)\n",
        "\n",
        "  Q1_mo = dict(filter(lambda item: item[0] in 'Q1', call_columns.items()))\n",
        "\n",
        "  mo_call = process_call_metrics(df_mo, Q1_mo, VALID_CALL_SCORES['Q1'])\n",
        "\n",
        "\n",
        "  df_to_export = {\n",
        "    'GENERAL': general,\n",
        "    'GENERAL_CALL': general_call,\n",
        "    'GENERAL_Q7': general_Q7,\n",
        "    'DC': dc,\n",
        "    'DC_CALL': dc_call,\n",
        "    'DC_Q7': dc_Q7,\n",
        "    'VRS': vrs,\n",
        "    'VRS_CALL': vrs_call,\n",
        "    'VRS_Q7': vrs_Q7,\n",
        "    'Missouri': mo,\n",
        "    'Missouri_CALL': mo_call,\n",
        "  }\n",
        "\n",
        "\n",
        "  export_to_excel(df_to_export, RESULTS_FILE)\n"
      ],
      "metadata": {
        "id": "geN7-RxJ47NG"
      },
      "execution_count": 49,
      "outputs": []
    },
    {
      "cell_type": "code",
      "source": [
        "if __name__ == \"__main__\":\n",
        "  main()"
      ],
      "metadata": {
        "colab": {
          "base_uri": "https://localhost:8080/"
        },
        "id": "UOibv-6k47PW",
        "outputId": "04577ce1-eac3-4034-8f9c-208ce7ca7e57"
      },
      "execution_count": 50,
      "outputs": [
        {
          "output_type": "stream",
          "name": "stderr",
          "text": [
            "<ipython-input-44-dfde6ee82bd6>:26: FutureWarning: The frame.append method is deprecated and will be removed from pandas in a future version. Use pandas.concat instead.\n",
            "  output_df = output_df.append({\n",
            "<ipython-input-44-dfde6ee82bd6>:26: FutureWarning: The frame.append method is deprecated and will be removed from pandas in a future version. Use pandas.concat instead.\n",
            "  output_df = output_df.append({\n",
            "<ipython-input-44-dfde6ee82bd6>:26: FutureWarning: The frame.append method is deprecated and will be removed from pandas in a future version. Use pandas.concat instead.\n",
            "  output_df = output_df.append({\n",
            "<ipython-input-44-dfde6ee82bd6>:26: FutureWarning: The frame.append method is deprecated and will be removed from pandas in a future version. Use pandas.concat instead.\n",
            "  output_df = output_df.append({\n",
            "<ipython-input-44-dfde6ee82bd6>:26: FutureWarning: The frame.append method is deprecated and will be removed from pandas in a future version. Use pandas.concat instead.\n",
            "  output_df = output_df.append({\n",
            "<ipython-input-44-dfde6ee82bd6>:26: FutureWarning: The frame.append method is deprecated and will be removed from pandas in a future version. Use pandas.concat instead.\n",
            "  output_df = output_df.append({\n",
            "<ipython-input-44-dfde6ee82bd6>:26: FutureWarning: The frame.append method is deprecated and will be removed from pandas in a future version. Use pandas.concat instead.\n",
            "  output_df = output_df.append({\n",
            "<ipython-input-44-dfde6ee82bd6>:26: FutureWarning: The frame.append method is deprecated and will be removed from pandas in a future version. Use pandas.concat instead.\n",
            "  output_df = output_df.append({\n",
            "<ipython-input-44-dfde6ee82bd6>:26: FutureWarning: The frame.append method is deprecated and will be removed from pandas in a future version. Use pandas.concat instead.\n",
            "  output_df = output_df.append({\n",
            "<ipython-input-44-dfde6ee82bd6>:26: FutureWarning: The frame.append method is deprecated and will be removed from pandas in a future version. Use pandas.concat instead.\n",
            "  output_df = output_df.append({\n",
            "<ipython-input-44-dfde6ee82bd6>:26: FutureWarning: The frame.append method is deprecated and will be removed from pandas in a future version. Use pandas.concat instead.\n",
            "  output_df = output_df.append({\n",
            "<ipython-input-44-dfde6ee82bd6>:26: FutureWarning: The frame.append method is deprecated and will be removed from pandas in a future version. Use pandas.concat instead.\n",
            "  output_df = output_df.append({\n",
            "<ipython-input-44-dfde6ee82bd6>:26: FutureWarning: The frame.append method is deprecated and will be removed from pandas in a future version. Use pandas.concat instead.\n",
            "  output_df = output_df.append({\n",
            "<ipython-input-44-dfde6ee82bd6>:26: FutureWarning: The frame.append method is deprecated and will be removed from pandas in a future version. Use pandas.concat instead.\n",
            "  output_df = output_df.append({\n",
            "<ipython-input-44-dfde6ee82bd6>:26: FutureWarning: The frame.append method is deprecated and will be removed from pandas in a future version. Use pandas.concat instead.\n",
            "  output_df = output_df.append({\n",
            "<ipython-input-44-dfde6ee82bd6>:26: FutureWarning: The frame.append method is deprecated and will be removed from pandas in a future version. Use pandas.concat instead.\n",
            "  output_df = output_df.append({\n",
            "<ipython-input-44-dfde6ee82bd6>:26: FutureWarning: The frame.append method is deprecated and will be removed from pandas in a future version. Use pandas.concat instead.\n",
            "  output_df = output_df.append({\n",
            "<ipython-input-44-dfde6ee82bd6>:26: FutureWarning: The frame.append method is deprecated and will be removed from pandas in a future version. Use pandas.concat instead.\n",
            "  output_df = output_df.append({\n",
            "<ipython-input-44-dfde6ee82bd6>:26: FutureWarning: The frame.append method is deprecated and will be removed from pandas in a future version. Use pandas.concat instead.\n",
            "  output_df = output_df.append({\n",
            "<ipython-input-44-dfde6ee82bd6>:26: FutureWarning: The frame.append method is deprecated and will be removed from pandas in a future version. Use pandas.concat instead.\n",
            "  output_df = output_df.append({\n"
          ]
        }
      ]
    },
    {
      "cell_type": "code",
      "source": [],
      "metadata": {
        "id": "61quF3R147R7"
      },
      "execution_count": 50,
      "outputs": []
    },
    {
      "cell_type": "code",
      "source": [],
      "metadata": {
        "id": "-S1JB4EF47UX"
      },
      "execution_count": 50,
      "outputs": []
    },
    {
      "cell_type": "code",
      "source": [],
      "metadata": {
        "id": "5M91CLIn47Wu"
      },
      "execution_count": 50,
      "outputs": []
    },
    {
      "cell_type": "code",
      "source": [],
      "metadata": {
        "id": "5a0mssFN47ZP"
      },
      "execution_count": 50,
      "outputs": []
    },
    {
      "cell_type": "code",
      "source": [],
      "metadata": {
        "id": "bWcJnbtc47bf"
      },
      "execution_count": 50,
      "outputs": []
    }
  ]
}